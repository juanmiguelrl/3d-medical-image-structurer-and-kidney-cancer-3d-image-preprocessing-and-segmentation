{
 "cells": [
  {
   "cell_type": "code",
   "execution_count": null,
   "metadata": {},
   "outputs": [],
   "source": [
    "import SimpleITK as sitk\n",
    "import matplotlib.pyplot as plt"
   ]
  },
  {
   "cell_type": "code",
   "execution_count": null,
   "metadata": {},
   "outputs": [],
   "source": [
    "image_path = 'path/to/KITS21/image.nii.gz'\n",
    "mask_path = 'path/to/KITS21/mask.nii.gz'\n",
    "\n",
    "image_path = \"C:\\\\Users\\\\Desktop\\\\KITS-21\\\\case_00000\\\\imaging.nii.gz\"\n",
    "mask_path = \"C:\\\\Users\\\\Desktop\\\\KITS-21\\\\case_00000\\\\aggregated_MAJ_seg.nii.gz\"\n",
    "\n",
    "image = sitk.ReadImage(image_path)\n",
    "mask = sitk.ReadImage(mask_path)\n"
   ]
  },
  {
   "cell_type": "code",
   "execution_count": null,
   "metadata": {},
   "outputs": [],
   "source": [
    "header = {k: mask.GetMetaData(k) for k in mask.GetMetaDataKeys()}\n",
    "\n",
    "stats = sitk.StatisticsImageFilter()\n",
    "stats.Execute(mask)\n",
    "print(\"Minimum:\", stats.GetMinimum())\n",
    "print(\"Maximum:\", stats.GetMaximum())"
   ]
  },
  {
   "cell_type": "code",
   "execution_count": null,
   "metadata": {},
   "outputs": [],
   "source": [
    "mask_array = sitk.GetArrayFromImage(mask)\n",
    "m = mask_array[300,:,:]\n",
    "image_array = sitk.GetArrayFromImage(image)\n",
    "n = image_array[300,:,:]"
   ]
  },
  {
   "cell_type": "code",
   "execution_count": null,
   "metadata": {},
   "outputs": [],
   "source": [
    "plt.subplot(121)\n",
    "plt.imshow(n)\n",
    "plt.title('Imagen')\n",
    "\n",
    "plt.subplot(122)\n",
    "plt.imshow(m)\n",
    "plt.title('Máscara')\n",
    "\n",
    "plt.show()"
   ]
  },
  {
   "cell_type": "code",
   "execution_count": null,
   "metadata": {},
   "outputs": [],
   "source": [
    "import numpy as np\n",
    "print(np.unique(mask_array))\n",
    "print(np.unique(image_array))"
   ]
  },
  {
   "cell_type": "code",
   "execution_count": null,
   "metadata": {},
   "outputs": [],
   "source": [
    "image_array = sitk.GetArrayFromImage(image)\n",
    "mask_array = sitk.GetArrayFromImage(mask)\n",
    "#show central slice\n",
    "plt.imshow(image_array[image_array.shape[0]//2,:,:], cmap='gray')\n",
    "#show central slice with mask\n",
    "plt.imshow(mask_array[mask_array.shape[0]//2,:,:], alpha=0.5)\n",
    "#show 3d image\n"
   ]
  },
  {
   "cell_type": "code",
   "execution_count": null,
   "metadata": {},
   "outputs": [],
   "source": [
    "plt.subplot(121)\n",
    "plt.imshow(image_array[300,:,:], cmap='gray')\n",
    "plt.title('Imagen')\n",
    "\n",
    "plt.subplot(122)\n",
    "plt.imshow(mask_array[300,:,:], cmap='gray')\n",
    "plt.title('Máscara')\n",
    "\n",
    "plt.show()\n"
   ]
  },
  {
   "cell_type": "code",
   "execution_count": null,
   "metadata": {},
   "outputs": [],
   "source": [
    "import itkwidgets\n",
    "import SimpleITK as sitk\n"
   ]
  },
  {
   "cell_type": "code",
   "execution_count": null,
   "metadata": {},
   "outputs": [],
   "source": [
    "image_path = 'path/to/KITS21/image.nii.gz'\n",
    "image_path = \"C:\\\\Users\\\\Desktop\\\\KITS-21\\\\case_00000\\\\imaging.nii.gz\"\n",
    "mask_path = \"C:\\\\Users\\\\Desktop\\\\KITS-21\\\\case_00000\\\\aggregated_MAJ_seg.nii.gz\"\n",
    "image = sitk.ReadImage(image_path)\n",
    "itkwidgets.view(image, cmap='Grayscale')\n"
   ]
  },
  {
   "cell_type": "code",
   "execution_count": null,
   "metadata": {},
   "outputs": [],
   "source": []
  }
 ],
 "metadata": {
  "kernelspec": {
   "display_name": "Python 3 (ipykernel)",
   "language": "python",
   "name": "python3"
  },
  "language_info": {
   "codemirror_mode": {
    "name": "ipython",
    "version": 3
   },
   "file_extension": ".py",
   "mimetype": "text/x-python",
   "name": "python",
   "nbconvert_exporter": "python",
   "pygments_lexer": "ipython3",
   "version": "3.10.4"
  }
 },
 "nbformat": 4,
 "nbformat_minor": 2
}
